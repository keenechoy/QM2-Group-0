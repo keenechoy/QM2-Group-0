version https://git-lfs.github.com/spec/v1
oid sha256:a246fa00d1013552ee46ef0ed111dd4608d6bb492a488954f6d2fb8088d248d1
size 125109104
